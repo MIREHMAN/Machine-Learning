{
 "cells": [
  {
   "cell_type": "markdown",
   "id": "c5d02078",
   "metadata": {},
   "source": [
    "## Lecture 2: Data Pre Processing"
   ]
  },
  {
   "cell_type": "markdown",
   "id": "9c83955c",
   "metadata": {},
   "source": [
    "### Data Preprocessing cycle"
   ]
  },
  {
   "cell_type": "markdown",
   "id": "a0a5268b",
   "metadata": {},
   "source": [
    "1. Getting Dataset\n",
    "2. Importing Libraries\n",
    "3. Importing Dataset\n",
    "4. Find missing values\n",
    "5. Encoding categorical data\n",
    "6. Splitting Data into test/train sets\n",
    "7. Feature Scaling"
   ]
  },
  {
   "cell_type": "markdown",
   "id": "47a3ad42",
   "metadata": {},
   "source": [
    "#### Getting Data Set"
   ]
  },
  {
   "cell_type": "markdown",
   "id": "36da07a7",
   "metadata": {},
   "source": [
    "There are many ways to get data. But You can practice by creating dataframe through dictionaries."
   ]
  },
  {
   "cell_type": "code",
   "execution_count": 19,
   "id": "f2bca314",
   "metadata": {},
   "outputs": [],
   "source": [
    "dict={\n",
    "    \"Countary\":[\"France\", \"Germany\", \"Italy\", \"Germany\", \"USA\", \"Italy\", \"France\", \"France\"],\n",
    "    \"Age\":[24,53,None,34,55,None,43,65],\n",
    "    \"Salary\":[34000,43000,45000,None,33000,44000,56000,76000],\n",
    "    \"Purchased\":[\"yes\",\"no\",\"yes\",\"yes\",\"yes\",\"no\",\"yes\",\"no\"]\n",
    "}"
   ]
  },
  {
   "cell_type": "code",
   "execution_count": 20,
   "id": "2a2ccda3",
   "metadata": {},
   "outputs": [
    {
     "data": {
      "text/plain": [
       "{'Countary': ['France',\n",
       "  'Germany',\n",
       "  'Italy',\n",
       "  'Germany',\n",
       "  'USA',\n",
       "  'Italy',\n",
       "  'France',\n",
       "  'France'],\n",
       " 'Age': [24, 53, None, 34, 55, None, 43, 65],\n",
       " 'Salary': [34000, 43000, 45000, None, 33000, 44000, 56000, 76000],\n",
       " 'Purchased': ['yes', 'no', 'yes', 'yes', 'yes', 'no', 'yes', 'no']}"
      ]
     },
     "execution_count": 20,
     "metadata": {},
     "output_type": "execute_result"
    }
   ],
   "source": [
    "dict"
   ]
  },
  {
   "cell_type": "code",
   "execution_count": 21,
   "id": "4fa6756c",
   "metadata": {},
   "outputs": [],
   "source": [
    "import pandas as pd"
   ]
  },
  {
   "cell_type": "markdown",
   "id": "8d8bb915",
   "metadata": {},
   "source": [
    "##### Converting Dictionary to a data frame using `DataFrame()` method of pandas"
   ]
  },
  {
   "cell_type": "code",
   "execution_count": 22,
   "id": "c4f4c153",
   "metadata": {},
   "outputs": [],
   "source": [
    "df=pd.DataFrame(dict)"
   ]
  },
  {
   "cell_type": "code",
   "execution_count": 23,
   "id": "5b4efd76",
   "metadata": {},
   "outputs": [
    {
     "data": {
      "text/html": [
       "<div>\n",
       "<style scoped>\n",
       "    .dataframe tbody tr th:only-of-type {\n",
       "        vertical-align: middle;\n",
       "    }\n",
       "\n",
       "    .dataframe tbody tr th {\n",
       "        vertical-align: top;\n",
       "    }\n",
       "\n",
       "    .dataframe thead th {\n",
       "        text-align: right;\n",
       "    }\n",
       "</style>\n",
       "<table border=\"1\" class=\"dataframe\">\n",
       "  <thead>\n",
       "    <tr style=\"text-align: right;\">\n",
       "      <th></th>\n",
       "      <th>Countary</th>\n",
       "      <th>Age</th>\n",
       "      <th>Salary</th>\n",
       "      <th>Purchased</th>\n",
       "    </tr>\n",
       "  </thead>\n",
       "  <tbody>\n",
       "    <tr>\n",
       "      <th>0</th>\n",
       "      <td>France</td>\n",
       "      <td>24.0</td>\n",
       "      <td>34000.0</td>\n",
       "      <td>yes</td>\n",
       "    </tr>\n",
       "    <tr>\n",
       "      <th>1</th>\n",
       "      <td>Germany</td>\n",
       "      <td>53.0</td>\n",
       "      <td>43000.0</td>\n",
       "      <td>no</td>\n",
       "    </tr>\n",
       "    <tr>\n",
       "      <th>2</th>\n",
       "      <td>Italy</td>\n",
       "      <td>NaN</td>\n",
       "      <td>45000.0</td>\n",
       "      <td>yes</td>\n",
       "    </tr>\n",
       "    <tr>\n",
       "      <th>3</th>\n",
       "      <td>Germany</td>\n",
       "      <td>34.0</td>\n",
       "      <td>NaN</td>\n",
       "      <td>yes</td>\n",
       "    </tr>\n",
       "    <tr>\n",
       "      <th>4</th>\n",
       "      <td>USA</td>\n",
       "      <td>55.0</td>\n",
       "      <td>33000.0</td>\n",
       "      <td>yes</td>\n",
       "    </tr>\n",
       "    <tr>\n",
       "      <th>5</th>\n",
       "      <td>Italy</td>\n",
       "      <td>NaN</td>\n",
       "      <td>44000.0</td>\n",
       "      <td>no</td>\n",
       "    </tr>\n",
       "    <tr>\n",
       "      <th>6</th>\n",
       "      <td>France</td>\n",
       "      <td>43.0</td>\n",
       "      <td>56000.0</td>\n",
       "      <td>yes</td>\n",
       "    </tr>\n",
       "    <tr>\n",
       "      <th>7</th>\n",
       "      <td>France</td>\n",
       "      <td>65.0</td>\n",
       "      <td>76000.0</td>\n",
       "      <td>no</td>\n",
       "    </tr>\n",
       "  </tbody>\n",
       "</table>\n",
       "</div>"
      ],
      "text/plain": [
       "  Countary   Age   Salary Purchased\n",
       "0   France  24.0  34000.0       yes\n",
       "1  Germany  53.0  43000.0        no\n",
       "2    Italy   NaN  45000.0       yes\n",
       "3  Germany  34.0      NaN       yes\n",
       "4      USA  55.0  33000.0       yes\n",
       "5    Italy   NaN  44000.0        no\n",
       "6   France  43.0  56000.0       yes\n",
       "7   France  65.0  76000.0        no"
      ]
     },
     "execution_count": 23,
     "metadata": {},
     "output_type": "execute_result"
    }
   ],
   "source": [
    "df"
   ]
  },
  {
   "cell_type": "markdown",
   "id": "dfff3158",
   "metadata": {},
   "source": [
    "**Seperating input and output variables**"
   ]
  },
  {
   "cell_type": "code",
   "execution_count": 58,
   "id": "6daf3fc3",
   "metadata": {},
   "outputs": [],
   "source": [
    "X=df.drop(['Purchased'],axis=1).values"
   ]
  },
  {
   "cell_type": "code",
   "execution_count": 59,
   "id": "957666f8",
   "metadata": {},
   "outputs": [
    {
     "data": {
      "text/plain": [
       "array([['France', 24.0, 34000.0],\n",
       "       ['Germany', 53.0, 43000.0],\n",
       "       ['Italy', nan, 45000.0],\n",
       "       ['Germany', 34.0, nan],\n",
       "       ['USA', 55.0, 33000.0],\n",
       "       ['Italy', nan, 44000.0],\n",
       "       ['France', 43.0, 56000.0],\n",
       "       ['France', 65.0, 76000.0]], dtype=object)"
      ]
     },
     "execution_count": 59,
     "metadata": {},
     "output_type": "execute_result"
    }
   ],
   "source": [
    "X"
   ]
  },
  {
   "cell_type": "code",
   "execution_count": 60,
   "id": "66012578",
   "metadata": {},
   "outputs": [],
   "source": [
    "Y=df['Purchased'].values"
   ]
  },
  {
   "cell_type": "code",
   "execution_count": 61,
   "id": "eafac1e1",
   "metadata": {},
   "outputs": [
    {
     "data": {
      "text/plain": [
       "array(['yes', 'no', 'yes', 'yes', 'yes', 'no', 'yes', 'no'], dtype=object)"
      ]
     },
     "execution_count": 61,
     "metadata": {},
     "output_type": "execute_result"
    }
   ],
   "source": [
    "Y"
   ]
  },
  {
   "cell_type": "markdown",
   "id": "d85259c7",
   "metadata": {},
   "source": [
    "**Find and Replace Missing Values**"
   ]
  },
  {
   "cell_type": "markdown",
   "id": "08855301",
   "metadata": {},
   "source": [
    "This can be done by using `SimpleImputer()` class from `sklearn.impute` library"
   ]
  },
  {
   "cell_type": "code",
   "execution_count": 62,
   "id": "9e2255c1",
   "metadata": {},
   "outputs": [],
   "source": [
    "from sklearn.impute import SimpleImputer\n",
    "import numpy as np"
   ]
  },
  {
   "cell_type": "code",
   "execution_count": 63,
   "id": "f0c2d586",
   "metadata": {},
   "outputs": [],
   "source": [
    "#creating an object of SimpleImputer() class\n",
    "imputer=SimpleImputer( missing_values=np.nan,\n",
    "    strategy='mean')"
   ]
  },
  {
   "cell_type": "code",
   "execution_count": 64,
   "id": "99298c54",
   "metadata": {},
   "outputs": [],
   "source": [
    "X[:,1:3]=imputer.fit_transform(X[:,1:3])"
   ]
  },
  {
   "cell_type": "code",
   "execution_count": 65,
   "id": "6516e6f4",
   "metadata": {},
   "outputs": [
    {
     "data": {
      "text/plain": [
       "array([['France', 24.0, 34000.0],\n",
       "       ['Germany', 53.0, 43000.0],\n",
       "       ['Italy', 45.666666666666664, 45000.0],\n",
       "       ['Germany', 34.0, 47285.71428571428],\n",
       "       ['USA', 55.0, 33000.0],\n",
       "       ['Italy', 45.666666666666664, 44000.0],\n",
       "       ['France', 43.0, 56000.0],\n",
       "       ['France', 65.0, 76000.0]], dtype=object)"
      ]
     },
     "execution_count": 65,
     "metadata": {},
     "output_type": "execute_result"
    }
   ],
   "source": [
    "X"
   ]
  },
  {
   "cell_type": "markdown",
   "id": "070c8f34",
   "metadata": {},
   "source": [
    "#### Check Categorical Variables"
   ]
  },
  {
   "cell_type": "markdown",
   "id": "f6d7dda7",
   "metadata": {},
   "source": [
    "**Convert Categorical variables into Numbers**"
   ]
  },
  {
   "cell_type": "markdown",
   "id": "ec562d6a",
   "metadata": {},
   "source": [
    "This can be done by using `Labelencoder()` class from `sklearn.preprocessing` library"
   ]
  },
  {
   "cell_type": "code",
   "execution_count": 72,
   "id": "7c9e43c0",
   "metadata": {},
   "outputs": [],
   "source": [
    "from sklearn.preprocessing import LabelEncoder"
   ]
  },
  {
   "cell_type": "code",
   "execution_count": 73,
   "id": "3c5743d4",
   "metadata": {},
   "outputs": [],
   "source": [
    "#creating an object of LabelEncoder() class\n",
    "encoder_x=LabelEncoder()"
   ]
  },
  {
   "cell_type": "code",
   "execution_count": 74,
   "id": "5e6bc785",
   "metadata": {},
   "outputs": [],
   "source": [
    "X[:,0]=encoder_x.fit_transform(X[:,0])"
   ]
  },
  {
   "cell_type": "code",
   "execution_count": 75,
   "id": "ccd473cc",
   "metadata": {},
   "outputs": [
    {
     "data": {
      "text/plain": [
       "array([[0, 24.0, 34000.0],\n",
       "       [1, 53.0, 43000.0],\n",
       "       [2, 45.666666666666664, 45000.0],\n",
       "       [1, 34.0, 47285.71428571428],\n",
       "       [3, 55.0, 33000.0],\n",
       "       [2, 45.666666666666664, 44000.0],\n",
       "       [0, 43.0, 56000.0],\n",
       "       [0, 65.0, 76000.0]], dtype=object)"
      ]
     },
     "execution_count": 75,
     "metadata": {},
     "output_type": "execute_result"
    }
   ],
   "source": [
    "X"
   ]
  },
  {
   "cell_type": "markdown",
   "id": "38e84d82",
   "metadata": {},
   "source": [
    "## Ordinal and Nominal Categorical Data"
   ]
  },
  {
   "cell_type": "markdown",
   "id": "46c250f1",
   "metadata": {},
   "source": [
    "Ordinal Categorical Data may have correlation between.\n",
    "e.g Education Lavel etc"
   ]
  },
  {
   "cell_type": "markdown",
   "id": "6b3ee46c",
   "metadata": {},
   "source": [
    "Nominal Categorical Data cannot be correlated. As Country Names, Gender, etc.\n"
   ]
  },
  {
   "cell_type": "markdown",
   "id": "4a8ee066",
   "metadata": {},
   "source": [
    "For Nominal Data we need to Encode the data into seperate binary classes."
   ]
  },
  {
   "cell_type": "markdown",
   "id": "c8c3186b",
   "metadata": {},
   "source": [
    "This can be done using `oneHotEncoder()` class from `sklearn.preprocessing` library"
   ]
  },
  {
   "cell_type": "code",
   "execution_count": 76,
   "id": "317a2fde",
   "metadata": {},
   "outputs": [],
   "source": [
    "from sklearn.preprocessing import OneHotEncoder\n",
    "encoder=OneHotEncoder()"
   ]
  },
  {
   "cell_type": "code",
   "execution_count": 80,
   "id": "69fbd961",
   "metadata": {},
   "outputs": [],
   "source": [
    "dummies=encoder.fit_transform(df.Countary.values.reshape(-1,1)).toarray()"
   ]
  },
  {
   "cell_type": "code",
   "execution_count": 81,
   "id": "c3ea004e",
   "metadata": {},
   "outputs": [
    {
     "data": {
      "text/plain": [
       "array([[1., 0., 0., 0.],\n",
       "       [0., 1., 0., 0.],\n",
       "       [0., 0., 1., 0.],\n",
       "       [0., 1., 0., 0.],\n",
       "       [0., 0., 0., 1.],\n",
       "       [0., 0., 1., 0.],\n",
       "       [1., 0., 0., 0.],\n",
       "       [1., 0., 0., 0.]])"
      ]
     },
     "execution_count": 81,
     "metadata": {},
     "output_type": "execute_result"
    }
   ],
   "source": [
    "dummies"
   ]
  },
  {
   "cell_type": "code",
   "execution_count": 82,
   "id": "22cf5baf",
   "metadata": {},
   "outputs": [],
   "source": [
    "label_encoder_y=LabelEncoder()"
   ]
  },
  {
   "cell_type": "code",
   "execution_count": 83,
   "id": "96bce96c",
   "metadata": {},
   "outputs": [],
   "source": [
    "y=label_encoder_y.fit_transform(Y)"
   ]
  },
  {
   "cell_type": "code",
   "execution_count": 84,
   "id": "9046f5bc",
   "metadata": {},
   "outputs": [
    {
     "data": {
      "text/plain": [
       "array([1, 0, 1, 1, 1, 0, 1, 0])"
      ]
     },
     "execution_count": 84,
     "metadata": {},
     "output_type": "execute_result"
    }
   ],
   "source": [
    "y"
   ]
  },
  {
   "cell_type": "markdown",
   "id": "99b19627",
   "metadata": {},
   "source": [
    "## Splitting Data into test/train sets"
   ]
  },
  {
   "cell_type": "code",
   "execution_count": 95,
   "id": "a859a8a8",
   "metadata": {},
   "outputs": [],
   "source": [
    "from sklearn.model_selection import train_test_split"
   ]
  },
  {
   "cell_type": "code",
   "execution_count": 96,
   "id": "ca61ac37",
   "metadata": {},
   "outputs": [],
   "source": [
    "xtrain,xtest,ytrain,ytest=train_test_split(X,Y,test_size=0.2,random_state=0)"
   ]
  },
  {
   "cell_type": "code",
   "execution_count": 113,
   "id": "dbf37e80",
   "metadata": {},
   "outputs": [
    {
     "data": {
      "text/plain": [
       "array([[1, 53.0, 43000.0],\n",
       "       [0, 65.0, 76000.0],\n",
       "       [1, 34.0, 47285.71428571428],\n",
       "       [0, 24.0, 34000.0],\n",
       "       [2, 45.666666666666664, 44000.0],\n",
       "       [3, 55.0, 33000.0]], dtype=object)"
      ]
     },
     "execution_count": 113,
     "metadata": {},
     "output_type": "execute_result"
    }
   ],
   "source": [
    "xtrain"
   ]
  },
  {
   "cell_type": "code",
   "execution_count": 114,
   "id": "b468f0bf",
   "metadata": {},
   "outputs": [
    {
     "data": {
      "text/plain": [
       "array([[0, 43.0, 56000.0],\n",
       "       [2, 45.666666666666664, 45000.0]], dtype=object)"
      ]
     },
     "execution_count": 114,
     "metadata": {},
     "output_type": "execute_result"
    }
   ],
   "source": [
    "xtest"
   ]
  },
  {
   "cell_type": "markdown",
   "id": "f760a61e",
   "metadata": {},
   "source": [
    "## Feature Scaling"
   ]
  },
  {
   "cell_type": "code",
   "execution_count": 115,
   "id": "15419fc8",
   "metadata": {},
   "outputs": [],
   "source": [
    "from sklearn.preprocessing import StandardScaler"
   ]
  },
  {
   "cell_type": "code",
   "execution_count": 116,
   "id": "99bf89a3",
   "metadata": {},
   "outputs": [],
   "source": [
    "scalar=StandardScaler()"
   ]
  },
  {
   "cell_type": "code",
   "execution_count": 117,
   "id": "f668d45f",
   "metadata": {},
   "outputs": [],
   "source": [
    "xtrain_s=scalar.fit_transform(xtrain)"
   ]
  },
  {
   "cell_type": "code",
   "execution_count": 118,
   "id": "504c1681",
   "metadata": {},
   "outputs": [],
   "source": [
    "xtest_s=scalar.fit_transform(xtest)"
   ]
  },
  {
   "cell_type": "code",
   "execution_count": 119,
   "id": "2e9f25b2",
   "metadata": {},
   "outputs": [
    {
     "data": {
      "text/plain": [
       "array([[-1., -1.,  1.],\n",
       "       [ 1.,  1., -1.]])"
      ]
     },
     "execution_count": 119,
     "metadata": {},
     "output_type": "execute_result"
    }
   ],
   "source": [
    "xtest_s"
   ]
  },
  {
   "cell_type": "code",
   "execution_count": 120,
   "id": "01782174",
   "metadata": {},
   "outputs": [
    {
     "data": {
      "text/plain": [
       "array([[-0.15617376,  0.50443194, -0.22473516],\n",
       "       [-1.09321633,  1.38311983,  2.08254578],\n",
       "       [-0.15617376, -0.88682389,  0.07491172],\n",
       "       [-1.09321633, -1.6190638 , -0.85399359],\n",
       "       [ 0.78086881, -0.032544  , -0.15481755],\n",
       "       [ 1.71791138,  0.65087992, -0.9239112 ]])"
      ]
     },
     "execution_count": 120,
     "metadata": {},
     "output_type": "execute_result"
    }
   ],
   "source": [
    "xtrain_s"
   ]
  },
  {
   "cell_type": "code",
   "execution_count": null,
   "id": "73df75ca",
   "metadata": {},
   "outputs": [],
   "source": []
  },
  {
   "cell_type": "code",
   "execution_count": null,
   "id": "9d6624eb",
   "metadata": {},
   "outputs": [],
   "source": []
  }
 ],
 "metadata": {
  "kernelspec": {
   "display_name": "Python 3 (ipykernel)",
   "language": "python",
   "name": "python3"
  },
  "language_info": {
   "codemirror_mode": {
    "name": "ipython",
    "version": 3
   },
   "file_extension": ".py",
   "mimetype": "text/x-python",
   "name": "python",
   "nbconvert_exporter": "python",
   "pygments_lexer": "ipython3",
   "version": "3.11.5"
  }
 },
 "nbformat": 4,
 "nbformat_minor": 5
}
